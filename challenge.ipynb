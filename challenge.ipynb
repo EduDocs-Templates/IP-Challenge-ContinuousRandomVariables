{
 "cells": [
  {
   "cell_type": "markdown",
   "id": "minute-culture",
   "metadata": {},
   "source": [
    "# Machine Problem: Continuous Random Variables\n",
    "\n",
    "In this [Python](https://www.python.org) challenge, you will generate continuous random variables.\n",
    "As before, this challenge leverages the Python `numpy` and `math` modules, along with the `matplotlib` libraries."
   ]
  },
  {
   "cell_type": "code",
   "execution_count": null,
   "id": "corresponding-hughes",
   "metadata": {},
   "outputs": [],
   "source": [
    "import math\n",
    "import numpy as np\n",
    "import matplotlib.pyplot as plt"
   ]
  },
  {
   "cell_type": "markdown",
   "id": "identified-thomson",
   "metadata": {},
   "source": [
    "Generate pseudo-random numbers using `random.uniform(0,math.pi)` and `np.random.rayleigh(1)`."
   ]
  },
  {
   "cell_type": "code",
   "execution_count": null,
   "id": "atomic-latvia",
   "metadata": {},
   "outputs": [],
   "source": [
    "TrialNumber = 100000\n",
    "UniformList = []\n",
    "RayleighList = []\n",
    "for trial1 in range(0, TrialNumber):\n",
    "    UniformList.append(np.random.uniform(0, 2*math.pi))\n",
    "    RayleighList.append(np.random.rayleigh(1))"
   ]
  },
  {
   "cell_type": "markdown",
   "id": "advanced-baking",
   "metadata": {},
   "source": [
    "Plot the empirical distributions associated with `UniformList` and `RayleighList` using binning/quantization or cumulative distribution functions."
   ]
  },
  {
   "cell_type": "code",
   "execution_count": null,
   "id": "danish-payment",
   "metadata": {},
   "outputs": [],
   "source": [
    "import scipy.stats\n",
    "# Create empirical probability density functions (PDFs)\n",
    "#\n",
    "hist_uniform = np.histogram(UniformList, bins=100)\n",
    "epdf_uniform = scipy.stats.rv_histogram(hist_uniform)\n",
    "hist_Rayleigh = np.histogram(RayleighList, bins=100)\n",
    "epdf_Rayleigh = scipy.stats.rv_histogram(hist_Rayleigh)\n",
    "\n",
    "fig, (ax1, ax2) = plt.subplots(1, 2)\n",
    "x_axis1 = np.linspace(-1.0, 7.0, 100)\n",
    "ax1.plot(x_axis1, epdf_uniform.pdf(x_axis1), label='PDF')\n",
    "x_axis2 = np.linspace(-1.0, 5.0, 100)\n",
    "ax2.plot(x_axis2, epdf_Rayleigh.pdf(x_axis2), label='PDF')\n",
    "plt.show()"
   ]
  },
  {
   "cell_type": "markdown",
   "id": "coordinated-variance",
   "metadata": {},
   "source": [
    "Create the following random variables."
   ]
  },
  {
   "cell_type": "code",
   "execution_count": null,
   "id": "trained-maryland",
   "metadata": {},
   "outputs": [],
   "source": [
    "Sequence1 = []\n",
    "Sequence2 = []\n",
    "Sequence3 = []\n",
    "for trial in range(0, TrialNumber):\n",
    "    Sequence1.append(math.sin(UniformList[trial]) * RayleighList[trial])\n",
    "    Sequence2.append(math.cos(UniformList[trial]) * RayleighList[trial])\n",
    "    Sequence3.append(Sequence1[trial]**2 + Sequence2[trial]**2)"
   ]
  },
  {
   "cell_type": "markdown",
   "id": "eight-reporter",
   "metadata": {},
   "source": [
    "Plot the empirical distributions associated with `Sequence1`, `Sequence2`, `Sequence3` using binning/quantization or cumulative distribution functions."
   ]
  },
  {
   "cell_type": "code",
   "execution_count": null,
   "id": "special-receptor",
   "metadata": {},
   "outputs": [],
   "source": [
    "# EDIT"
   ]
  },
  {
   "cell_type": "markdown",
   "id": "directed-samuel",
   "metadata": {},
   "source": [
    "What is the type of random variable `Sequence1` ?  \n",
    "ANSWER:\n",
    "\n",
    "What is its mean and variance?  \n",
    "ANSWER:\n",
    "\n",
    "What is the type of random variable `Sequence2` ?  \n",
    "ANSWER:\n",
    "\n",
    "What is its mean and variance?  \n",
    "ANSWER:\n",
    "\n",
    "What is the type of random variable `Sequence3` ?  \n",
    "ANSWER:\n",
    "\n",
    "What is its mean and variance?  \n",
    "ANSWER:\n",
    "\n",
    "What is the empirical covariance between `Sequence1` and `Sequence2` ?  \n",
    "ANSWER:\n",
    "\n",
    "Do you think they are independent? Justify your answer.  \n",
    "ANSWER:"
   ]
  }
 ],
 "metadata": {
  "kernelspec": {
   "display_name": "Python 3",
   "language": "python",
   "name": "python3"
  },
  "language_info": {
   "codemirror_mode": {
    "name": "ipython",
    "version": 3
   },
   "file_extension": ".py",
   "mimetype": "text/x-python",
   "name": "python",
   "nbconvert_exporter": "python",
   "pygments_lexer": "ipython3",
   "version": "3.7.9"
  }
 },
 "nbformat": 4,
 "nbformat_minor": 5
}
